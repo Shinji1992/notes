{
 "cells": [
  {
   "cell_type": "markdown",
   "metadata": {},
   "source": [
    "## Verify \"Smooth Adversarial Training\" paper\n",
    "\n",
    "Procedures:\n",
    "1. Images dataset uses MNIST\n",
    "2. Creates two models (using ReLU activation function and smooth ReLU activation function)\n",
    "3. Creates adversarial examples by FGSM for training set (epsilon=0.05)\n",
    "4. Creates adversarial examples by FGSM  for test set (epsilon=0.15)\n",
    "5. Two models train with the adversarial examples\n",
    "6. Evaluation"
   ]
  },
  {
   "cell_type": "code",
   "execution_count": 1,
   "metadata": {},
   "outputs": [
    {
     "name": "stderr",
     "output_type": "stream",
     "text": [
      "Using TensorFlow backend.\n"
     ]
    }
   ],
   "source": [
    "import tensorflow as tf\n",
    "from tensorflow.keras.datasets import fashion_mnist\n",
    "from tensorflow.keras import Sequential\n",
    "from tensorflow.keras.callbacks import LambdaCallback\n",
    "from tensorflow.keras.layers import Conv2D, MaxPooling2D, Dropout, Dense, Flatten, Activation\n",
    "import numpy as np\n",
    "import random\n",
    "import matplotlib.pyplot as plt\n",
    "from keras import backend as K"
   ]
  },
  {
   "cell_type": "code",
   "execution_count": 2,
   "metadata": {},
   "outputs": [],
   "source": [
    "(x_train, y_train), (x_test, y_test) = fashion_mnist.load_data()"
   ]
  },
  {
   "cell_type": "code",
   "execution_count": 3,
   "metadata": {},
   "outputs": [
    {
     "data": {
      "text/plain": [
       "(60000, 28, 28)"
      ]
     },
     "execution_count": 3,
     "metadata": {},
     "output_type": "execute_result"
    }
   ],
   "source": [
    "x_train.shape"
   ]
  },
  {
   "cell_type": "code",
   "execution_count": 4,
   "metadata": {},
   "outputs": [
    {
     "data": {
      "image/png": "[encoded data removed]",
      "text/plain": [
       "<Figure size 432x288 with 2 Axes>"
      ]
     },
     "metadata": {
      "needs_background": "light"
     },
     "output_type": "display_data"
    }
   ],
   "source": [
    "plt.figure()\n",
    "plt.imshow(x_train[0])\n",
    "plt.colorbar()\n",
    "plt.grid(False)\n",
    "plt.show()"
   ]
  },
  {
   "cell_type": "code",
   "execution_count": 5,
   "metadata": {},
   "outputs": [],
   "source": [
    "labels = ['T-shirt/top', 'Trouser', 'Pullover', 'Dress', 'Coat','Sandal', 'Shirt', 'Sneaker', 'Bag', 'Ankle boot']"
   ]
  },
  {
   "cell_type": "code",
   "execution_count": 6,
   "metadata": {},
   "outputs": [
    {
     "name": "stdout",
     "output_type": "stream",
     "text": [
      "Data shapes (10000, 28, 28, 1) (10000, 10) (60000, 28, 28, 1) (60000, 10)\n"
     ]
    }
   ],
   "source": [
    "img_rows, img_cols, channels = 28, 28, 1\n",
    "num_classes = 10\n",
    "\n",
    "x_train = x_train / 255\n",
    "x_test = x_test / 255\n",
    "\n",
    "x_train = x_train.reshape((-1, img_rows, img_cols, channels))\n",
    "x_test = x_test.reshape((-1, img_rows, img_cols, channels))\n",
    "\n",
    "y_train = tf.keras.utils.to_categorical(y_train, num_classes)\n",
    "y_test = tf.keras.utils.to_categorical(y_test, num_classes)\n",
    "\n",
    "print(\"Data shapes\", x_test.shape, y_test.shape, x_train.shape, y_train.shape)"
   ]
  },
  {
   "cell_type": "code",
   "execution_count": 7,
   "metadata": {},
   "outputs": [],
   "source": [
    "def create_model(function):\n",
    "    model = Sequential()\n",
    "    model.add(Conv2D(32, kernel_size=(3, 3), strides=(3, 3), padding='same', activation=function, input_shape=(img_rows, img_cols, channels)))\n",
    "    model.add(Conv2D(64, kernel_size=(3, 3), strides=(3, 3), padding='same', activation=function))\n",
    "    model.add(Conv2D(64, kernel_size=(3, 3), strides=(3, 3), padding='same', activation=function))\n",
    "    model.add(MaxPooling2D(pool_size=(2, 2)))\n",
    "    model.add(Dropout(0.2))\n",
    "    model.add(Flatten())\n",
    "    model.add(Dense(32))\n",
    "    model.add(Dropout(0.2))\n",
    "    model.add(Dense(32))\n",
    "    model.add(Dropout(0.2))\n",
    "    model.add(Dense(num_classes, activation='softmax'))\n",
    "\n",
    "    model.compile(optimizer='adam', loss='mse', metrics=['accuracy'])\n",
    "    \n",
    "    return model"
   ]
  },
  {
   "cell_type": "code",
   "execution_count": 8,
   "metadata": {},
   "outputs": [],
   "source": [
    "def smoothrelu(x, beta=10):\n",
    "    return K.relu(x - (1./beta) * tf.math.log(tf.abs(x) * beta + 1.))"
   ]
  },
  {
   "cell_type": "code",
   "execution_count": 9,
   "metadata": {},
   "outputs": [],
   "source": [
    "model_relu = create_model('relu')\n",
    "model_smoothrelu = create_model(smoothrelu)"
   ]
  },
  {
   "cell_type": "code",
   "execution_count": 10,
   "metadata": {},
   "outputs": [],
   "source": [
    "def model_train(model,x_train,y_train,x_test,y_test):\n",
    "    model.fit(x_train, y_train,\n",
    "              batch_size=32,\n",
    "              epochs=5,\n",
    "              validation_data=(x_test, y_test))\n",
    "    return model"
   ]
  },
  {
   "cell_type": "code",
   "execution_count": 11,
   "metadata": {},
   "outputs": [
    {
     "name": "stdout",
     "output_type": "stream",
     "text": [
      "Train on 60000 samples, validate on 10000 samples\n",
      "Epoch 1/5\n",
      "60000/60000 [==============================] - 11s 176us/sample - loss: 0.0335 - accuracy: 0.7620 - val_loss: 0.0235 - val_accuracy: 0.8354\n",
      "Epoch 2/5\n",
      "60000/60000 [==============================] - 10s 165us/sample - loss: 0.0232 - accuracy: 0.8409 - val_loss: 0.0206 - val_accuracy: 0.8607\n",
      "Epoch 3/5\n",
      "60000/60000 [==============================] - 10s 166us/sample - loss: 0.0207 - accuracy: 0.8585 - val_loss: 0.0194 - val_accuracy: 0.8678\n",
      "Epoch 4/5\n",
      "60000/60000 [==============================] - 10s 165us/sample - loss: 0.0192 - accuracy: 0.8694 - val_loss: 0.0185 - val_accuracy: 0.8741\n",
      "Epoch 5/5\n",
      "60000/60000 [==============================] - 10s 166us/sample - loss: 0.0181 - accuracy: 0.8765 - val_loss: 0.0179 - val_accuracy: 0.8770\n",
      "Train on 60000 samples, validate on 10000 samples\n",
      "Epoch 1/5\n",
      "60000/60000 [==============================] - 13s 223us/sample - loss: 0.0368 - accuracy: 0.7370 - val_loss: 0.0239 - val_accuracy: 0.8336\n",
      "Epoch 2/5\n",
      "60000/60000 [==============================] - 13s 215us/sample - loss: 0.0246 - accuracy: 0.8323 - val_loss: 0.0210 - val_accuracy: 0.8538\n",
      "Epoch 3/5\n",
      "60000/60000 [==============================] - 13s 222us/sample - loss: 0.0217 - accuracy: 0.8516 - val_loss: 0.0191 - val_accuracy: 0.8693\n",
      "Epoch 4/5\n",
      "60000/60000 [==============================] - 13s 212us/sample - loss: 0.0199 - accuracy: 0.8657 - val_loss: 0.0194 - val_accuracy: 0.8679\n",
      "Epoch 5/5\n",
      "60000/60000 [==============================] - 13s 210us/sample - loss: 0.0188 - accuracy: 0.8728 - val_loss: 0.0186 - val_accuracy: 0.8750\n"
     ]
    }
   ],
   "source": [
    "model_train_relu = model_train(model_relu,x_train,y_train,x_test,y_test)\n",
    "model_train_smoothrelu = model_train(model_smoothrelu,x_train,y_train,x_test,y_test)"
   ]
  },
  {
   "cell_type": "code",
   "execution_count": 12,
   "metadata": {},
   "outputs": [],
   "source": [
    "def model_evaluate(model,x_test,y_test):\n",
    "    score = model.evaluate(x=x_test, y=y_test, verbose=0)\n",
    "    return score[1]"
   ]
  },
  {
   "cell_type": "code",
   "execution_count": 13,
   "metadata": {},
   "outputs": [
    {
     "name": "stdout",
     "output_type": "stream",
     "text": [
      "Accuracy of model with ReLU on regular images: 0.877\n",
      "Accuracy of model with Smooth ReLU on regular images: 0.875\n"
     ]
    }
   ],
   "source": [
    "print(\"Accuracy of model with ReLU on regular images:\", model_evaluate(model_train_relu,x_test,y_test))\n",
    "print(\"Accuracy of model with Smooth ReLU on regular images:\", model_evaluate(model_train_smoothrelu,x_test,y_test))"
   ]
  },
  {
   "cell_type": "code",
   "execution_count": 14,
   "metadata": {},
   "outputs": [],
   "source": [
    "def adversarial_pattern(image, label, model):\n",
    "    image = tf.cast(image, tf.float32)\n",
    "    \n",
    "    with tf.GradientTape() as tape:\n",
    "        tape.watch(image)\n",
    "        prediction = model(image)\n",
    "        loss = tf.keras.losses.MSE(label, prediction)\n",
    "    \n",
    "    gradient = tape.gradient(loss, image)\n",
    "    \n",
    "    signed_grad = tf.sign(gradient)\n",
    "    \n",
    "    return signed_grad"
   ]
  },
  {
   "cell_type": "code",
   "execution_count": 15,
   "metadata": {},
   "outputs": [],
   "source": [
    "image = x_train[0]"
   ]
  },
  {
   "cell_type": "code",
   "execution_count": 16,
   "metadata": {},
   "outputs": [],
   "source": [
    "image_label = y_train[0]"
   ]
  },
  {
   "cell_type": "code",
   "execution_count": 17,
   "metadata": {},
   "outputs": [],
   "source": [
    "perturbations = adversarial_pattern(image.reshape((1, img_rows, img_cols, channels)), image_label,model_train_relu).numpy()"
   ]
  },
  {
   "cell_type": "code",
   "execution_count": 18,
   "metadata": {},
   "outputs": [],
   "source": [
    "adversarial = image + perturbations * 0.05"
   ]
  },
  {
   "cell_type": "code",
   "execution_count": 19,
   "metadata": {},
   "outputs": [
    {
     "data": {
      "image/png": "[encoded data removed]",
      "text/plain": [
       "<Figure size 432x288 with 1 Axes>"
      ]
     },
     "metadata": {
      "needs_background": "light"
     },
     "output_type": "display_data"
    }
   ],
   "source": [
    "if channels == 1:\n",
    "    plt.imshow(adversarial.reshape((img_rows, img_cols)))\n",
    "else:\n",
    "    plt.imshow(adversarial.reshape((img_rows, img_cols, channels)))\n",
    "plt.show()"
   ]
  },
  {
   "cell_type": "code",
   "execution_count": 20,
   "metadata": {},
   "outputs": [
    {
     "data": {
      "image/png": "[encoded data removed]",
      "text/plain": [
       "<Figure size 432x288 with 1 Axes>"
      ]
     },
     "metadata": {
      "needs_background": "light"
     },
     "output_type": "display_data"
    }
   ],
   "source": [
    "perturbations = adversarial_pattern(image.reshape((1, img_rows, img_cols, channels)), image_label,model_train_relu).numpy()\n",
    "adversarial = image + perturbations * 0.15\n",
    "if channels == 1:\n",
    "    plt.imshow(adversarial.reshape((img_rows, img_cols)))\n",
    "else:\n",
    "    plt.imshow(adversarial.reshape((img_rows, img_cols, channels)))\n",
    "plt.show()"
   ]
  },
  {
   "cell_type": "code",
   "execution_count": 21,
   "metadata": {},
   "outputs": [],
   "source": [
    "def generate_adversarials(batch_size,epsilon,model):\n",
    "    while True:\n",
    "        x = []\n",
    "        y = []\n",
    "        for batch in range(batch_size):\n",
    "            N = random.randint(0, 100)\n",
    "\n",
    "            label = y_train[N]\n",
    "            image = x_train[N]\n",
    "            \n",
    "            perturbations = adversarial_pattern(image.reshape((1, img_rows, img_cols, channels)), label,model).numpy()\n",
    "            adversarial = image + perturbations * epsilon\n",
    "            \n",
    "            x.append(adversarial)\n",
    "            y.append(y_train[N])\n",
    "        \n",
    "        x = np.asarray(x).reshape((batch_size, img_rows, img_cols, channels))\n",
    "        y = np.asarray(y)\n",
    "        \n",
    "        yield x, y"
   ]
  },
  {
   "cell_type": "code",
   "execution_count": 22,
   "metadata": {},
   "outputs": [],
   "source": [
    "x_adversarial_test_relu, y_adversarial_test_relu = next(generate_adversarials(1000,0.15,model_train_relu))"
   ]
  },
  {
   "cell_type": "code",
   "execution_count": 23,
   "metadata": {},
   "outputs": [],
   "source": [
    "x_adversarial_test_smoothrelu, y_adversarial_test_smoothrelu = next(generate_adversarials(1000,0.15,model_train_smoothrelu))"
   ]
  },
  {
   "cell_type": "code",
   "execution_count": 24,
   "metadata": {},
   "outputs": [],
   "source": [
    "x_adversarial_train_relu, y_adversarial_train_relu = next(generate_adversarials(3000,0.05,model_train_relu))"
   ]
  },
  {
   "cell_type": "code",
   "execution_count": 25,
   "metadata": {},
   "outputs": [],
   "source": [
    "x_adversarial_train_smoothrelu, y_adversarial_train_smoothrelu = next(generate_adversarials(3000,0.05,model_train_smoothrelu))"
   ]
  },
  {
   "cell_type": "code",
   "execution_count": 26,
   "metadata": {},
   "outputs": [
    {
     "name": "stdout",
     "output_type": "stream",
     "text": [
      "Train on 3000 samples, validate on 1000 samples\n",
      "Epoch 1/5\n",
      "3000/3000 [==============================] - 1s 178us/sample - loss: 0.0027 - accuracy: 0.9860 - val_loss: 0.0439 - val_accuracy: 0.7180\n",
      "Epoch 2/5\n",
      "3000/3000 [==============================] - 1s 171us/sample - loss: 0.0028 - accuracy: 0.9853 - val_loss: 0.0379 - val_accuracy: 0.7610\n",
      "Epoch 3/5\n",
      "3000/3000 [==============================] - 1s 177us/sample - loss: 0.0027 - accuracy: 0.9860 - val_loss: 0.0409 - val_accuracy: 0.7500\n",
      "Epoch 4/5\n",
      "3000/3000 [==============================] - 1s 194us/sample - loss: 0.0026 - accuracy: 0.9860 - val_loss: 0.0300 - val_accuracy: 0.7770\n",
      "Epoch 5/5\n",
      "3000/3000 [==============================] - 1s 209us/sample - loss: 0.0017 - accuracy: 0.9890 - val_loss: 0.0350 - val_accuracy: 0.7490\n"
     ]
    }
   ],
   "source": [
    "new_model_relu = model_train(model_relu,x_adversarial_train_relu,y_adversarial_train_relu,\n",
    "                         x_adversarial_test_relu,y_adversarial_test_relu)"
   ]
  },
  {
   "cell_type": "code",
   "execution_count": 27,
   "metadata": {},
   "outputs": [
    {
     "name": "stdout",
     "output_type": "stream",
     "text": [
      "Accuracy of model with ReLU on adversarial examples: 0.749\n"
     ]
    }
   ],
   "source": [
    "print(\"Accuracy of model with ReLU on adversarial examples:\", \n",
    "      model_evaluate(new_model_relu, x_adversarial_test_relu,y_adversarial_test_relu))"
   ]
  },
  {
   "cell_type": "code",
   "execution_count": 28,
   "metadata": {},
   "outputs": [
    {
     "name": "stdout",
     "output_type": "stream",
     "text": [
      "Train on 3000 samples, validate on 1000 samples\n",
      "Epoch 1/5\n",
      "3000/3000 [==============================] - 1s 235us/sample - loss: 0.0018 - accuracy: 0.9893 - val_loss: 0.0274 - val_accuracy: 0.8050\n",
      "Epoch 2/5\n",
      "3000/3000 [==============================] - 1s 233us/sample - loss: 7.5161e-04 - accuracy: 0.9970 - val_loss: 0.0241 - val_accuracy: 0.8370\n",
      "Epoch 3/5\n",
      "3000/3000 [==============================] - 1s 234us/sample - loss: 7.3993e-04 - accuracy: 0.9953 - val_loss: 0.0226 - val_accuracy: 0.8630\n",
      "Epoch 4/5\n",
      "3000/3000 [==============================] - 1s 237us/sample - loss: 5.2418e-04 - accuracy: 0.9983 - val_loss: 0.0203 - val_accuracy: 0.8550\n",
      "Epoch 5/5\n",
      "3000/3000 [==============================] - 1s 233us/sample - loss: 3.9908e-04 - accuracy: 0.9983 - val_loss: 0.0150 - val_accuracy: 0.8860\n"
     ]
    }
   ],
   "source": [
    "new_model_smoothrelu = model_train(model_smoothrelu,x_adversarial_train_smoothrelu,y_adversarial_train_smoothrelu,\n",
    "                               x_adversarial_test_smoothrelu,y_adversarial_test_smoothrelu)"
   ]
  },
  {
   "cell_type": "code",
   "execution_count": 29,
   "metadata": {},
   "outputs": [
    {
     "name": "stdout",
     "output_type": "stream",
     "text": [
      "Accuracy of model with Smooth ReLU on adversarial examples: 0.886\n"
     ]
    }
   ],
   "source": [
    "print(\"Accuracy of model with Smooth ReLU on adversarial examples:\", \n",
    "      model_evaluate(new_model_smoothrelu, x_adversarial_test_smoothrelu,y_adversarial_test_smoothrelu))"
   ]
  }
 ],
 "metadata": {
  "kernelspec": {
   "display_name": "Python 3",
   "language": "python",
   "name": "python3"
  },
  "language_info": {
   "codemirror_mode": {
    "name": "ipython",
    "version": 3
   },
   "file_extension": ".py",
   "mimetype": "text/x-python",
   "name": "python",
   "nbconvert_exporter": "python",
   "pygments_lexer": "ipython3",
   "version": "3.7.5"
  }
 },
 "nbformat": 4,
 "nbformat_minor": 4
}
